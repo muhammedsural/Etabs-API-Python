{
 "cells": [
  {
   "cell_type": "code",
   "execution_count": 3,
   "metadata": {},
   "outputs": [],
   "source": [
    "from sapwrapper import wrapper as wp"
   ]
  },
  {
   "cell_type": "code",
   "execution_count": 4,
   "metadata": {},
   "outputs": [
    {
     "ename": "COMError",
     "evalue": "(-2146233077, None, ('Şu IPC Bağlantı Noktasından okunamadı: Boru sonlandı.\\r\\n', 'mscorlib', None, 0, None))",
     "output_type": "error",
     "traceback": [
      "\u001b[1;31m---------------------------------------------------------------------------\u001b[0m",
      "\u001b[1;31mCOMError\u001b[0m                                  Traceback (most recent call last)",
      "\u001b[1;32mc:\\Users\\Lenovo\\Desktop\\github\\Etabs-API-Python\\Oapi\\wrappertester.ipynb Hücre 2\u001b[0m in \u001b[0;36m<cell line: 1>\u001b[1;34m()\u001b[0m\n\u001b[1;32m----> <a href='vscode-notebook-cell:/c%3A/Users/Lenovo/Desktop/github/Etabs-API-Python/Oapi/wrappertester.ipynb#W1sZmlsZQ%3D%3D?line=0'>1</a>\u001b[0m sap \u001b[39m=\u001b[39m wp\u001b[39m.\u001b[39;49minitilaze(ModelName\u001b[39m=\u001b[39;49m\u001b[39m\"\u001b[39;49m\u001b[39mTest001\u001b[39;49m\u001b[39m\"\u001b[39;49m)\n\u001b[0;32m      <a href='vscode-notebook-cell:/c%3A/Users/Lenovo/Desktop/github/Etabs-API-Python/Oapi/wrappertester.ipynb#W1sZmlsZQ%3D%3D?line=1'>2</a>\u001b[0m \u001b[39m\"\"\"wp.portalFrame(sap,0,3,3,3,5)\u001b[39;00m\n\u001b[0;32m      <a href='vscode-notebook-cell:/c%3A/Users/Lenovo/Desktop/github/Etabs-API-Python/Oapi/wrappertester.ipynb#W1sZmlsZQ%3D%3D?line=2'>3</a>\u001b[0m \u001b[39mwp.create_material(sap,2,materialName='concrate')\u001b[39;00m\n\u001b[0;32m      <a href='vscode-notebook-cell:/c%3A/Users/Lenovo/Desktop/github/Etabs-API-Python/Oapi/wrappertester.ipynb#W1sZmlsZQ%3D%3D?line=3'>4</a>\u001b[0m \u001b[39mwp.rectang(sap,'C30*30','concrate',0.30,0.30)\u001b[39;00m\n\u001b[0;32m      <a href='vscode-notebook-cell:/c%3A/Users/Lenovo/Desktop/github/Etabs-API-Python/Oapi/wrappertester.ipynb#W1sZmlsZQ%3D%3D?line=4'>5</a>\u001b[0m \u001b[39mwp.rectang(sap,'B30*40','concrate',0.30,0.40)\"\"\"\u001b[39;00m\n",
      "File \u001b[1;32mc:\\Users\\Lenovo\\Desktop\\github\\Etabs-API-Python\\Oapi\\sapwrapper.py:125\u001b[0m, in \u001b[0;36mwrapper.initilaze\u001b[1;34m(ProgramPath, APIPath, ModelName, unit)\u001b[0m\n\u001b[0;32m    119\u001b[0m             sys\u001b[39m.\u001b[39mexit(\u001b[39m-\u001b[39m\u001b[39m1\u001b[39m)\n\u001b[0;32m    123\u001b[0m     \u001b[39m#start SAP2000 application\u001b[39;00m\n\u001b[1;32m--> 125\u001b[0m     mySapObject\u001b[39m.\u001b[39;49mApplicationStart()\n\u001b[0;32m    129\u001b[0m \u001b[39m#create SapModel object\u001b[39;00m\n\u001b[0;32m    131\u001b[0m SapModel \u001b[39m=\u001b[39m mySapObject\u001b[39m.\u001b[39mSapModel\n",
      "\u001b[1;31mCOMError\u001b[0m: (-2146233077, None, ('Şu IPC Bağlantı Noktasından okunamadı: Boru sonlandı.\\r\\n', 'mscorlib', None, 0, None))"
     ]
    }
   ],
   "source": [
    "\"\"\"sap = wp.initilaze(ModelName=\"Test001\")\n",
    "wp.portalFrame(sap,0,3,3,3,5)\n",
    "wp.create_material(sap,2,materialName='concrate')\n",
    "wp.rectang(sap,'C30*30','concrate',0.30,0.30)\n",
    "wp.rectang(sap,'B30*40','concrate',0.30,0.40)\"\"\""
   ]
  },
  {
   "cell_type": "code",
   "execution_count": 1,
   "metadata": {},
   "outputs": [],
   "source": [
    "from oapi_wrapper import EtabsProject as et"
   ]
  },
  {
   "cell_type": "code",
   "execution_count": 2,
   "metadata": {},
   "outputs": [
    {
     "ename": "OSError",
     "evalue": "[WinError -2147221005] Geçersiz sınıf dizesi",
     "output_type": "error",
     "traceback": [
      "\u001b[1;31m---------------------------------------------------------------------------\u001b[0m",
      "\u001b[1;31mOSError\u001b[0m                                   Traceback (most recent call last)",
      "\u001b[1;32mc:\\Users\\Lenovo\\Desktop\\github\\Etabs-API-Python\\Oapi\\wrappertester.ipynb Hücre 4\u001b[0m in \u001b[0;36m<cell line: 1>\u001b[1;34m()\u001b[0m\n\u001b[1;32m----> <a href='vscode-notebook-cell:/c%3A/Users/Lenovo/Desktop/github/Etabs-API-Python/Oapi/wrappertester.ipynb#W3sZmlsZQ%3D%3D?line=0'>1</a>\u001b[0m a \u001b[39m=\u001b[39m et()\n",
      "File \u001b[1;32mc:\\Users\\Lenovo\\Desktop\\github\\Etabs-API-Python\\Oapi\\oapi_wrapper.py:7\u001b[0m, in \u001b[0;36mEtabsProject.__init__\u001b[1;34m(self)\u001b[0m\n\u001b[0;32m      5\u001b[0m \u001b[39mdef\u001b[39;00m \u001b[39m__init__\u001b[39m(\u001b[39mself\u001b[39m):\n\u001b[1;32m----> 7\u001b[0m     \u001b[39mself\u001b[39;49m\u001b[39m.\u001b[39;49mstartup()\n\u001b[0;32m      8\u001b[0m     \u001b[39m# self.CreateGridSystem()\u001b[39;00m\n\u001b[0;32m      9\u001b[0m     \u001b[39m# self.matNames()\u001b[39;00m\n\u001b[0;32m     10\u001b[0m     \u001b[39m# self.getMatProp()\u001b[39;00m\n\u001b[0;32m     11\u001b[0m     \u001b[39m# self.createNewMaterial()\u001b[39;00m\n\u001b[0;32m     12\u001b[0m     \u001b[39m#self.deleteMaterial()\u001b[39;00m\n\u001b[0;32m     13\u001b[0m     \u001b[39mpass\u001b[39;00m\n",
      "File \u001b[1;32mc:\\Users\\Lenovo\\Desktop\\github\\Etabs-API-Python\\Oapi\\oapi_wrapper.py:41\u001b[0m, in \u001b[0;36mEtabsProject.startup\u001b[1;34m(self)\u001b[0m\n\u001b[0;32m     38\u001b[0m ModelPath \u001b[39m=\u001b[39m APIPath \u001b[39m+\u001b[39m os\u001b[39m.\u001b[39msep \u001b[39m+\u001b[39m \u001b[39m'\u001b[39m\u001b[39mAPI_1-021.edb\u001b[39m\u001b[39m'\u001b[39m\n\u001b[0;32m     40\u001b[0m \u001b[39m#create API helper object\u001b[39;00m\n\u001b[1;32m---> 41\u001b[0m helper \u001b[39m=\u001b[39m comtypes\u001b[39m.\u001b[39;49mclient\u001b[39m.\u001b[39;49mCreateObject(\u001b[39m'\u001b[39;49m\u001b[39mETABSv1.Helper\u001b[39;49m\u001b[39m'\u001b[39;49m)\n\u001b[0;32m     42\u001b[0m helper \u001b[39m=\u001b[39m helper\u001b[39m.\u001b[39mQueryInterface(comtypes\u001b[39m.\u001b[39mgen\u001b[39m.\u001b[39mETABSv1\u001b[39m.\u001b[39mcHelper)\n\u001b[0;32m     43\u001b[0m \u001b[39mif\u001b[39;00m AttachToInstance:\n\u001b[0;32m     44\u001b[0m     \u001b[39m#attach to a running instance of ETABS\u001b[39;00m\n",
      "File \u001b[1;32mc:\\Users\\Lenovo\\anaconda3\\lib\\site-packages\\comtypes\\client\\__init__.py:227\u001b[0m, in \u001b[0;36mCreateObject\u001b[1;34m(progid, clsctx, machine, interface, dynamic, pServerInfo)\u001b[0m\n\u001b[0;32m    205\u001b[0m \u001b[39mdef\u001b[39;00m \u001b[39mCreateObject\u001b[39m(progid,                  \u001b[39m# which object to create\u001b[39;00m\n\u001b[0;32m    206\u001b[0m                  clsctx\u001b[39m=\u001b[39m\u001b[39mNone\u001b[39;00m,             \u001b[39m# how to create the object\u001b[39;00m\n\u001b[0;32m    207\u001b[0m                  machine\u001b[39m=\u001b[39m\u001b[39mNone\u001b[39;00m,            \u001b[39m# where to create the object\u001b[39;00m\n\u001b[0;32m    208\u001b[0m                  interface\u001b[39m=\u001b[39m\u001b[39mNone\u001b[39;00m,          \u001b[39m# the interface we want\u001b[39;00m\n\u001b[0;32m    209\u001b[0m                  dynamic\u001b[39m=\u001b[39m\u001b[39mFalse\u001b[39;00m,           \u001b[39m# use dynamic dispatch\u001b[39;00m\n\u001b[0;32m    210\u001b[0m                  pServerInfo\u001b[39m=\u001b[39m\u001b[39mNone\u001b[39;00m):       \u001b[39m# server info struct for remoting\u001b[39;00m\n\u001b[0;32m    211\u001b[0m     \u001b[39m\"\"\"Create a COM object from 'progid', and try to QueryInterface()\u001b[39;00m\n\u001b[0;32m    212\u001b[0m \u001b[39m    it to the most useful interface, generating typelib support on\u001b[39;00m\n\u001b[0;32m    213\u001b[0m \u001b[39m    demand.  A pointer to this interface is returned.\u001b[39;00m\n\u001b[1;32m   (...)\u001b[0m\n\u001b[0;32m    225\u001b[0m \u001b[39m    You can also later request to receive events with GetEvents().\u001b[39;00m\n\u001b[0;32m    226\u001b[0m \u001b[39m    \"\"\"\u001b[39;00m\n\u001b[1;32m--> 227\u001b[0m     clsid \u001b[39m=\u001b[39m comtypes\u001b[39m.\u001b[39;49mGUID\u001b[39m.\u001b[39;49mfrom_progid(progid)\n\u001b[0;32m    228\u001b[0m     logger\u001b[39m.\u001b[39mdebug(\u001b[39m\"\u001b[39m\u001b[39m%s\u001b[39;00m\u001b[39m -> \u001b[39m\u001b[39m%s\u001b[39;00m\u001b[39m\"\u001b[39m, progid, clsid)\n\u001b[0;32m    229\u001b[0m     \u001b[39mif\u001b[39;00m dynamic:\n",
      "File \u001b[1;32mc:\\Users\\Lenovo\\anaconda3\\lib\\site-packages\\comtypes\\GUID.py:78\u001b[0m, in \u001b[0;36mGUID.from_progid\u001b[1;34m(cls, progid)\u001b[0m\n\u001b[0;32m     76\u001b[0m         \u001b[39mreturn\u001b[39;00m \u001b[39mcls\u001b[39m(progid)\n\u001b[0;32m     77\u001b[0m     inst \u001b[39m=\u001b[39m \u001b[39mcls\u001b[39m()\n\u001b[1;32m---> 78\u001b[0m     _CLSIDFromProgID(\u001b[39mstr\u001b[39;49m(progid), byref(inst))\n\u001b[0;32m     79\u001b[0m     \u001b[39mreturn\u001b[39;00m inst\n\u001b[0;32m     80\u001b[0m \u001b[39melse\u001b[39;00m:\n",
      "File \u001b[1;32m_ctypes/callproc.c:997\u001b[0m, in \u001b[0;36mGetResult\u001b[1;34m()\u001b[0m\n",
      "\u001b[1;31mOSError\u001b[0m: [WinError -2147221005] Geçersiz sınıf dizesi"
     ]
    }
   ],
   "source": [
    "a = et()"
   ]
  },
  {
   "cell_type": "code",
   "execution_count": null,
   "metadata": {},
   "outputs": [],
   "source": []
  }
 ],
 "metadata": {
  "interpreter": {
   "hash": "20a9e06a1eee47c4abbed4ec8225ad91d78d9800d202b71b6b0a6e47016c6abd"
  },
  "kernelspec": {
   "display_name": "Python 3.9.12 ('base')",
   "language": "python",
   "name": "python3"
  },
  "language_info": {
   "codemirror_mode": {
    "name": "ipython",
    "version": 3
   },
   "file_extension": ".py",
   "mimetype": "text/x-python",
   "name": "python",
   "nbconvert_exporter": "python",
   "pygments_lexer": "ipython3",
   "version": "3.9.12"
  },
  "orig_nbformat": 4
 },
 "nbformat": 4,
 "nbformat_minor": 2
}
